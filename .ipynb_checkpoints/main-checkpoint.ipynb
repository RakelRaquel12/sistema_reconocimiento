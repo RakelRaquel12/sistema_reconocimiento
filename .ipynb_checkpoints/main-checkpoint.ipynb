{
 "cells": [
  {
   "cell_type": "code",
   "execution_count": 11,
   "id": "dbcc9da7-95f8-432f-a474-5b8ba4c4d168",
   "metadata": {},
   "outputs": [],
   "source": [
    "from tkinter import *\n",
    "from PIL import Image\n",
    "from PIL import ImageTk\n",
    "import cv2\n",
    "import imutils\n",
    "try:\n",
    "    import Tkinter as tk\n",
    "except:\n",
    "    import tkinter as tk"
   ]
  },
  {
   "cell_type": "code",
   "execution_count": 2,
   "id": "0f8a4e20-f2f4-4c06-8acb-b2a92211a51b",
   "metadata": {},
   "outputs": [],
   "source": [
    "def iniciar():\n",
    "    global cap\n",
    "    cap = cv2.VideoCapture(0, cv2.CAP_DSHOW)\n",
    "    visualizar()"
   ]
  },
  {
   "cell_type": "code",
   "execution_count": 6,
   "id": "614f9cd0-f159-4ea4-9ee4-98ce1713f0c2",
   "metadata": {},
   "outputs": [],
   "source": [
    "def visualizar():\n",
    "    global cap\n",
    "    if cap is not None:\n",
    "        ret, frame = cap.read()\n",
    "        frame = cv2.flip(frame, 1)\n",
    "        if ret == True:\n",
    "            frame = imutils.resize(frame, width=640)\n",
    "            frame = cv2.cvtColor(frame, cv2.COLOR_BGR2RGB)\n",
    "            im = Image.fromarray(frame)\n",
    "            img = ImageTk.PhotoImage(image=im)\n",
    "            lblVideo.configure(image=img)\n",
    "            lblVideo.image = img\n",
    "            lblVideo.after(10, visualizar)\n",
    "        else:\n",
    "            lblVideo.image = \"\"\n",
    "            cap.release()"
   ]
  },
  {
   "cell_type": "code",
   "execution_count": 7,
   "id": "871cc93c-0104-4fe8-b2fc-0cd730907e9b",
   "metadata": {},
   "outputs": [],
   "source": [
    "def finalizar():\n",
    "    global cap\n",
    "    cap.release()"
   ]
  },
  {
   "cell_type": "code",
   "execution_count": 13,
   "id": "21aff2ad-2bee-4391-a59c-69d9eff18727",
   "metadata": {},
   "outputs": [],
   "source": [
    "def close_window():\n",
    "    root.destroy()"
   ]
  },
  {
   "cell_type": "code",
   "execution_count": null,
   "id": "0226cb8f-6d88-4fa8-8ade-36fedddac5e3",
   "metadata": {},
   "outputs": [],
   "source": []
  },
  {
   "cell_type": "code",
   "execution_count": 12,
   "id": "aa8e238d-e872-45da-b505-8d20016441d0",
   "metadata": {},
   "outputs": [
    {
     "ename": "TclError",
     "evalue": "invalid command name \".!menu.!menu\"",
     "output_type": "error",
     "traceback": [
      "\u001b[1;31m---------------------------------------------------------------------------\u001b[0m",
      "\u001b[1;31mTclError\u001b[0m                                  Traceback (most recent call last)",
      "\u001b[1;32m~\\AppData\\Local\\Temp\\ipykernel_6012\\418170734.py\u001b[0m in \u001b[0;36m<module>\u001b[1;34m\u001b[0m\n\u001b[0;32m     12\u001b[0m \u001b[0mfilemenu\u001b[0m\u001b[1;33m.\u001b[0m\u001b[0madd_command\u001b[0m\u001b[1;33m(\u001b[0m\u001b[0mlabel\u001b[0m\u001b[1;33m=\u001b[0m\u001b[1;34m\"Cerrar\"\u001b[0m\u001b[1;33m)\u001b[0m\u001b[1;33m\u001b[0m\u001b[1;33m\u001b[0m\u001b[0m\n\u001b[0;32m     13\u001b[0m \u001b[0mfilemenu\u001b[0m\u001b[1;33m.\u001b[0m\u001b[0madd_separator\u001b[0m\u001b[1;33m(\u001b[0m\u001b[1;33m)\u001b[0m\u001b[1;33m\u001b[0m\u001b[1;33m\u001b[0m\u001b[0m\n\u001b[1;32m---> 14\u001b[1;33m \u001b[0mfilemenu\u001b[0m\u001b[1;33m.\u001b[0m\u001b[0madd_command\u001b[0m\u001b[1;33m(\u001b[0m\u001b[0mlabel\u001b[0m\u001b[1;33m=\u001b[0m\u001b[1;34m\"Salir\"\u001b[0m\u001b[1;33m,\u001b[0m \u001b[0mcommand\u001b[0m\u001b[1;33m=\u001b[0m\u001b[0mroot\u001b[0m\u001b[1;33m.\u001b[0m\u001b[0mdestroy\u001b[0m\u001b[1;33m(\u001b[0m\u001b[1;33m)\u001b[0m\u001b[1;33m)\u001b[0m\u001b[1;33m\u001b[0m\u001b[1;33m\u001b[0m\u001b[0m\n\u001b[0m\u001b[0;32m     15\u001b[0m \u001b[1;33m\u001b[0m\u001b[0m\n\u001b[0;32m     16\u001b[0m \u001b[0meditmenu\u001b[0m \u001b[1;33m=\u001b[0m \u001b[0mMenu\u001b[0m\u001b[1;33m(\u001b[0m\u001b[0mmenubar\u001b[0m\u001b[1;33m,\u001b[0m \u001b[0mtearoff\u001b[0m\u001b[1;33m=\u001b[0m\u001b[1;36m0\u001b[0m\u001b[1;33m)\u001b[0m\u001b[1;33m\u001b[0m\u001b[1;33m\u001b[0m\u001b[0m\n",
      "\u001b[1;32mc:\\users\\lyria\\appdata\\local\\programs\\python\\python37\\lib\\tkinter\\__init__.py\u001b[0m in \u001b[0;36madd_command\u001b[1;34m(self, cnf, **kw)\u001b[0m\n\u001b[0;32m   2885\u001b[0m     \u001b[1;32mdef\u001b[0m \u001b[0madd_command\u001b[0m\u001b[1;33m(\u001b[0m\u001b[0mself\u001b[0m\u001b[1;33m,\u001b[0m \u001b[0mcnf\u001b[0m\u001b[1;33m=\u001b[0m\u001b[1;33m{\u001b[0m\u001b[1;33m}\u001b[0m\u001b[1;33m,\u001b[0m \u001b[1;33m**\u001b[0m\u001b[0mkw\u001b[0m\u001b[1;33m)\u001b[0m\u001b[1;33m:\u001b[0m\u001b[1;33m\u001b[0m\u001b[1;33m\u001b[0m\u001b[0m\n\u001b[0;32m   2886\u001b[0m         \u001b[1;34m\"\"\"Add command menu item.\"\"\"\u001b[0m\u001b[1;33m\u001b[0m\u001b[1;33m\u001b[0m\u001b[0m\n\u001b[1;32m-> 2887\u001b[1;33m         \u001b[0mself\u001b[0m\u001b[1;33m.\u001b[0m\u001b[0madd\u001b[0m\u001b[1;33m(\u001b[0m\u001b[1;34m'command'\u001b[0m\u001b[1;33m,\u001b[0m \u001b[0mcnf\u001b[0m \u001b[1;32mor\u001b[0m \u001b[0mkw\u001b[0m\u001b[1;33m)\u001b[0m\u001b[1;33m\u001b[0m\u001b[1;33m\u001b[0m\u001b[0m\n\u001b[0m\u001b[0;32m   2888\u001b[0m     \u001b[1;32mdef\u001b[0m \u001b[0madd_radiobutton\u001b[0m\u001b[1;33m(\u001b[0m\u001b[0mself\u001b[0m\u001b[1;33m,\u001b[0m \u001b[0mcnf\u001b[0m\u001b[1;33m=\u001b[0m\u001b[1;33m{\u001b[0m\u001b[1;33m}\u001b[0m\u001b[1;33m,\u001b[0m \u001b[1;33m**\u001b[0m\u001b[0mkw\u001b[0m\u001b[1;33m)\u001b[0m\u001b[1;33m:\u001b[0m\u001b[1;33m\u001b[0m\u001b[1;33m\u001b[0m\u001b[0m\n\u001b[0;32m   2889\u001b[0m         \u001b[1;34m\"\"\"Addd radio menu item.\"\"\"\u001b[0m\u001b[1;33m\u001b[0m\u001b[1;33m\u001b[0m\u001b[0m\n",
      "\u001b[1;32mc:\\users\\lyria\\appdata\\local\\programs\\python\\python37\\lib\\tkinter\\__init__.py\u001b[0m in \u001b[0;36madd\u001b[1;34m(self, itemType, cnf, **kw)\u001b[0m\n\u001b[0;32m   2876\u001b[0m         \u001b[1;34m\"\"\"Internal function.\"\"\"\u001b[0m\u001b[1;33m\u001b[0m\u001b[1;33m\u001b[0m\u001b[0m\n\u001b[0;32m   2877\u001b[0m         self.tk.call((self._w, 'add', itemType) +\n\u001b[1;32m-> 2878\u001b[1;33m                  self._options(cnf, kw))\n\u001b[0m\u001b[0;32m   2879\u001b[0m     \u001b[1;32mdef\u001b[0m \u001b[0madd_cascade\u001b[0m\u001b[1;33m(\u001b[0m\u001b[0mself\u001b[0m\u001b[1;33m,\u001b[0m \u001b[0mcnf\u001b[0m\u001b[1;33m=\u001b[0m\u001b[1;33m{\u001b[0m\u001b[1;33m}\u001b[0m\u001b[1;33m,\u001b[0m \u001b[1;33m**\u001b[0m\u001b[0mkw\u001b[0m\u001b[1;33m)\u001b[0m\u001b[1;33m:\u001b[0m\u001b[1;33m\u001b[0m\u001b[1;33m\u001b[0m\u001b[0m\n\u001b[0;32m   2880\u001b[0m         \u001b[1;34m\"\"\"Add hierarchical menu item.\"\"\"\u001b[0m\u001b[1;33m\u001b[0m\u001b[1;33m\u001b[0m\u001b[0m\n",
      "\u001b[1;31mTclError\u001b[0m: invalid command name \".!menu.!menu\""
     ]
    }
   ],
   "source": [
    "cap = None\n",
    "root = Tk()\n",
    "\n",
    "#creacion de menu\n",
    "menubar = Menu(root)\n",
    "root.config(menu=menubar)\n",
    "#nuevos menuItems\n",
    "filemenu = Menu(menubar, tearoff=0)\n",
    "filemenu.add_command(label=\"Nuevo\")\n",
    "filemenu.add_command(label=\"Abrir\")\n",
    "filemenu.add_command(label=\"Guardar\")\n",
    "filemenu.add_command(label=\"Cerrar\")\n",
    "filemenu.add_separator()\n",
    "filemenu.add_command(label=\"Salir\", command=close_window)\n",
    "\n",
    "editmenu = Menu(menubar, tearoff=0)\n",
    "editmenu.add_command(label=\"Cortar\")\n",
    "editmenu.add_command(label=\"Copiar\")\n",
    "editmenu.add_command(label=\"Pegar\")\n",
    "\n",
    "helpmenu = Menu(menubar, tearoff=0)\n",
    "helpmenu.add_command(label=\"Ayuda\")\n",
    "helpmenu.add_separator()\n",
    "helpmenu.add_command(label=\"Acerca de...\")\n",
    "\n",
    "menubar.add_cascade(label=\"Archivo\", menu=filemenu)\n",
    "menubar.add_cascade(label=\"Editar\", menu=editmenu)\n",
    "menubar.add_cascade(label=\"Ayuda\", menu=helpmenu)\n",
    "#acciones de boton Video\n",
    "btnIniciar = Button(root, text=\"Iniciar\", width=45, command=iniciar)\n",
    "btnIniciar.grid(column=0, row=0, padx=5, pady=5)\n",
    "btnFinalizar = Button(root, text=\"Finalizar\", width=45, command=finalizar)\n",
    "btnFinalizar.grid(column=1, row=0, padx=5, pady=5)\n",
    "lblVideo = Label(root)\n",
    "lblVideo.grid(column=0, row=1, columnspan=2)\n",
    "\n",
    "clos\n",
    "#cierre del loop Tk\n",
    "root.mainloop()"
   ]
  },
  {
   "cell_type": "code",
   "execution_count": null,
   "id": "eac6bcf8-2085-4ecd-98a9-1d73f0eb2fab",
   "metadata": {},
   "outputs": [],
   "source": []
  }
 ],
 "metadata": {
  "kernelspec": {
   "display_name": "Python 3 (ipykernel)",
   "language": "python",
   "name": "python3"
  },
  "language_info": {
   "codemirror_mode": {
    "name": "ipython",
    "version": 3
   },
   "file_extension": ".py",
   "mimetype": "text/x-python",
   "name": "python",
   "nbconvert_exporter": "python",
   "pygments_lexer": "ipython3",
   "version": "3.7.9"
  }
 },
 "nbformat": 4,
 "nbformat_minor": 5
}
