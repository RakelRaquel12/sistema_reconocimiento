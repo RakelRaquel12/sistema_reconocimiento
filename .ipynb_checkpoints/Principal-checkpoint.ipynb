{
 "cells": [
  {
   "cell_type": "code",
   "execution_count": 1,
   "id": "89a8f8e2-c672-4cc8-a50d-dac80202f280",
   "metadata": {},
   "outputs": [],
   "source": [
    "from tkinter import *\n",
    "from tkinter import filedialog\n",
    "from PIL import Image\n",
    "from PIL import ImageTk\n",
    "import cv2\n",
    "import tkinter as tk\n",
    "import imutils\n",
    "import numpy as np\n",
    "# importing os module  \n",
    "import os"
   ]
  },
  {
   "cell_type": "code",
   "execution_count": 34,
   "id": "41f079dc-c7e7-48eb-9a38-b1ee37df273c",
   "metadata": {},
   "outputs": [],
   "source": [
    "image_face = None\n",
    "def elegir_imagen():\n",
    "    # Especificar los tipos de archivos, para elegir solo a las imágenes\n",
    "    path_image = filedialog.askopenfilename(filetypes = [\n",
    "        (\"image\", \".jpeg\"),\n",
    "        (\"image\", \".png\"),\n",
    "        (\"image\", \".jpg\")])\n",
    "    if len(path_image) > 0:\n",
    "        global image\n",
    "        #path\n",
    "        global image_face\n",
    "        image_face = path_image\n",
    "        print(image_face)\n",
    "        # Leer la imagen de entrada y la redimensionamos\n",
    "        image = cv2.imread(path_image)\n",
    "        image= imutils.resize(image, height=380)\n",
    "        # Para visualizar la imagen de entrada en la GUI\n",
    "        imageToShow= imutils.resize(image, width=180)\n",
    "        imageToShow = cv2.cvtColor(imageToShow, cv2.COLOR_BGR2RGB)\n",
    "        im = Image.fromarray(imageToShow )\n",
    "        img = ImageTk.PhotoImage(image=im)\n",
    "        lblInputImage.configure(image=img)\n",
    "        lblInputImage.image = img\n",
    "        # Label IMAGEN DE ENTRADA\n",
    "        lblInfo1 = Label(root, text=\"IMAGEN DE ENTRADA:\")\n",
    "        lblInfo1.grid(column=0, row=1, padx=5, pady=5)\n",
    "        # Al momento que leemos la imagen de entrada, vaciamos\n",
    "        # la iamgen de salida y se limpia la selección de los\n",
    "        # radiobutton\n",
    "        lblOutputImage.image = \"\""
   ]
  },
  {
   "cell_type": "code",
   "execution_count": 35,
   "id": "4d13ebd6-11df-4a49-a46e-518492f396a8",
   "metadata": {},
   "outputs": [],
   "source": [
    "video = None\n",
    "def video_Stream():\n",
    "\tglobal video\n",
    "\tvideo = cv2.VideoCapture(0,cv2.CAP_DSHOW)\n",
    "\tiniciar()"
   ]
  },
  {
   "cell_type": "code",
   "execution_count": null,
   "id": "0323c743-3853-40d1-92ee-42cc82135c99",
   "metadata": {},
   "outputs": [],
   "source": [
    "faceClassif = cv2.CascadeClassifier(cv2.data.haarcascades+'haarcascade_frontalface_default.xml')\n",
    "def iniciar():\n",
    "    global video\n",
    "    ret, frame = video.read()\n",
    "    frame = cv2.flip(frame,1)\n",
    "    if ret ==True:\n",
    "        frame = imutils.resize(frame,width=400, height=300)\n",
    "        frame = cv2.cvtColor(frame, cv2.COLOR_BGR2RGB)\n",
    "        auxFrame = frame.copy()                                      \n",
    "        faces = faceClassif.detectMultiScale(frame,1.2,5)\n",
    "        #print(cap_face)\n",
    "        if cap_face==True:\n",
    "            personName = txtNombre.get()\n",
    "            print(personName)\n",
    "            dataPath = 'Data'\n",
    "            personPath = dataPath+\"/\"+personName\n",
    "            if not os.path.exists(personPath):\n",
    "                os.makedirs(personPath)\n",
    "            for (x,y,w,h) in faces:\n",
    "                cv2.rectangle(frame, (x,y),(x+w,y+h),(0,255,0),2)\n",
    "                rostro = auxFrame[y:y+h,x:x+w]\n",
    "                rostro = cv2.resize(rostro,(150,150),interpolation=cv2.INTER_CUBIC)\n",
    "                cv2.imwrite(personPath + '/rostro_{}.jpg'.format(count),rostro)\n",
    "                count = count + 1\n",
    "        img = Image.fromarray(frame)\n",
    "        image = ImageTk.PhotoImage(image=img)\n",
    "        etip_de_video.configure(image=image)\n",
    "        etip_de_video.image = image\n",
    "        etip_de_video.after(10, iniciar)"
   ]
  },
  {
   "cell_type": "code",
   "execution_count": null,
   "id": "cef229d0-8ff7-4536-baa4-b6761d5e4aff",
   "metadata": {},
   "outputs": [],
   "source": [
    "def cap_face_bol():\n",
    "    global cap_face\n",
    "    print(cap_face)\n",
    "    cap_face=True"
   ]
  },
  {
   "cell_type": "code",
   "execution_count": 38,
   "id": "944bfee8-ae5f-4b52-828e-1734f21938c3",
   "metadata": {},
   "outputs": [],
   "source": [
    "def capturar_rostros():\n",
    "\tpersonName = txtNombre.get()\n",
    "\tprint(personName)\n",
    "\tdataPath = 'Data'\n",
    "\tpersonPath = dataPath+\"/\"+personName\n",
    "\tif not os.path.exists(personPath):\n",
    "\t\tos.makedirs(personPath)"
   ]
  },
  {
   "cell_type": "code",
   "execution_count": 39,
   "id": "8fe4d751-b363-47ec-b9f5-df32f51f885e",
   "metadata": {},
   "outputs": [
    {
     "data": {
      "text/plain": [
       "''"
      ]
     },
     "execution_count": 39,
     "metadata": {},
     "output_type": "execute_result"
    }
   ],
   "source": [
    "# Creamos la ventana principal\n",
    "root = Tk()\n",
    "root.title(\"Reconocimiento Facial\")\n",
    "root.geometry(\"700x500\")"
   ]
  },
  {
   "cell_type": "code",
   "execution_count": 40,
   "id": "89819f9d-7e86-4912-ae64-0b09716a4ce0",
   "metadata": {},
   "outputs": [],
   "source": [
    "# Label donde se presentará la imagen de entrada\n",
    "lblInputImage = Label(root)\n",
    "lblInputImage.grid(column=0, row=2)\n",
    "# Label donde se presentará la imagen de salida\n",
    "lblOutputImage = Label(root)\n",
    "lblOutputImage.grid(column=1, row=1, rowspan=6)\n"
   ]
  },
  {
   "cell_type": "code",
   "execution_count": 43,
   "id": "c9f4a375-6383-43cd-96fa-43e55e1df6b8",
   "metadata": {},
   "outputs": [],
   "source": [
    "#colores\n",
    "fondo_boton = \"#5e17eb\"\n",
    "#botones\n",
    "#boton = tk.Button(root, text=\"iniciar video\",bg=fondo_boton,relief = \"flat\",cursor = \"hand2\",command=video_Stream,width=15, height=2,font=(\"Calisto MT\",12,\"bold\"))\n",
    "cap_face = False\n",
    "#boton.place(x=180,y=400)\n",
    "boton = tk.Button(root, text=\"iniciar Captura\",cursor = \"hand2\",width=15,command=cap_face_bol, height=2,font=(\"Calisto MT\",12,\"bold\"))\n",
    "\n",
    "boton.place(x=180,y=400)\n",
    "#Etiqueta\n",
    "etip_de_video = tk.Label(root,bg=\"black\")\n",
    "etip_de_video.place(x=220,y=50)"
   ]
  },
  {
   "cell_type": "code",
   "execution_count": 44,
   "id": "190b7bed-dfc6-44da-a674-21ed9187c35d",
   "metadata": {},
   "outputs": [],
   "source": [
    "# Creamos los radio buttons y la ubicación que estos ocuparán\n",
    "\n",
    "labelNombre = tk.Label(root,\n",
    "                    text = \"Nombre\")\n",
    "labelNombre.grid(column=0, row=6, ipadx=5, pady=5)\n",
    "\n",
    "txtNombre = tk.Entry(root, width=20)\n",
    "txtNombre.grid(column=0, row=7, padx=10, pady=5, sticky=tk.N)\n"
   ]
  },
  {
   "cell_type": "code",
   "execution_count": null,
   "id": "e10b0ae2-ccee-46d2-b7b7-c43fc308fc9a",
   "metadata": {},
   "outputs": [
    {
     "name": "stdout",
     "output_type": "stream",
     "text": [
      "C:/Users/Lyria/Pictures/liz.PNG\n",
      "False\n",
      "lizbeth\n"
     ]
    },
    {
     "name": "stderr",
     "output_type": "stream",
     "text": [
      "Exception in Tkinter callback\n",
      "Traceback (most recent call last):\n",
      "  File \"c:\\users\\lyria\\appdata\\local\\programs\\python\\python37\\lib\\tkinter\\__init__.py\", line 1705, in __call__\n",
      "    return self.func(*args)\n",
      "  File \"c:\\users\\lyria\\appdata\\local\\programs\\python\\python37\\lib\\tkinter\\__init__.py\", line 749, in callit\n",
      "    func(*args)\n",
      "  File \"C:\\Users\\Lyria\\AppData\\Local\\Temp\\ipykernel_2680\\2251418051.py\", line 18, in iniciar\n",
      "    cv2.imwrite(personPath + '/rostro_{}.jpg'.format(count),rostro)\n",
      "NameError: name 'personPath' is not defined\n"
     ]
    }
   ],
   "source": [
    "# Creamos el botón para elegir la imagen de entrada\n",
    "btn = Button(root, text=\"Elegir imagen\", width=25, command=elegir_imagen)\n",
    "btn.grid(column=0, row=0, padx=5, pady=5)\n",
    "video_Stream()\n",
    "root.mainloop()"
   ]
  },
  {
   "cell_type": "code",
   "execution_count": null,
   "id": "d2857943-8f83-4dce-b50e-ce2883c08971",
   "metadata": {},
   "outputs": [],
   "source": []
  },
  {
   "cell_type": "code",
   "execution_count": null,
   "id": "75c2299f-6449-4d9f-8f75-fba51b05b0b7",
   "metadata": {},
   "outputs": [],
   "source": []
  }
 ],
 "metadata": {
  "kernelspec": {
   "display_name": "Python 3 (ipykernel)",
   "language": "python",
   "name": "python3"
  },
  "language_info": {
   "codemirror_mode": {
    "name": "ipython",
    "version": 3
   },
   "file_extension": ".py",
   "mimetype": "text/x-python",
   "name": "python",
   "nbconvert_exporter": "python",
   "pygments_lexer": "ipython3",
   "version": "3.7.9"
  }
 },
 "nbformat": 4,
 "nbformat_minor": 5
}
