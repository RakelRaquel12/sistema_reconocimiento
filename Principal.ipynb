{
 "cells": [
  {
   "cell_type": "code",
   "execution_count": 1,
   "id": "89a8f8e2-c672-4cc8-a50d-dac80202f280",
   "metadata": {},
   "outputs": [],
   "source": [
    "from tkinter import *\n",
    "from tkinter import filedialog\n",
    "from PIL import Image\n",
    "from PIL import ImageTk\n",
    "from PIL import ImageTk, Image  \n",
    "import cv2\n",
    "import tkinter as tk\n",
    "import imutils\n",
    "import numpy as np\n",
    "# importing os module  \n",
    "import os\n",
    "import tkinter.messagebox\n"
   ]
  },
  {
   "cell_type": "code",
   "execution_count": 2,
   "id": "aeb62af0-2ecf-4b12-aae2-188e80c8afce",
   "metadata": {},
   "outputs": [],
   "source": [
    "def reiniciar_count():\n",
    "    global count\n",
    "    count = 0"
   ]
  },
  {
   "cell_type": "code",
   "execution_count": 3,
   "id": "1174f6c7-a758-40f6-b157-414bd4007538",
   "metadata": {},
   "outputs": [],
   "source": [
    "image_face = None\n",
    "def elegir_imagen():\n",
    "    # Especificar los tipos de archivos, para elegir solo a las imágenes\n",
    "    path_image = filedialog.askopenfilename(filetypes = [\n",
    "        (\"image\", \".jpeg\"),\n",
    "        (\"image\", \".png\"),\n",
    "        (\"image\", \".jpg\")])\n",
    "    if len(path_image) > 0:\n",
    "        global image\n",
    "        #path\n",
    "        global image_face\n",
    "        image_face = path_image\n",
    "        print(image_face)\n",
    "        # Leer la imagen de entrada y la redimensionamos\n",
    "        image = cv2.imread(path_image)\n",
    "        image= imutils.resize(image, height=380)\n",
    "        # Para visualizar la imagen de entrada en la GUI\n",
    "        imageToShow= imutils.resize(image, width=180)\n",
    "        imageToShow = cv2.cvtColor(imageToShow, cv2.COLOR_BGR2RGB)\n",
    "        im = Image.fromarray(imageToShow )\n",
    "        img = ImageTk.PhotoImage(image=im)\n",
    "        lblInputImage.configure(image=img)\n",
    "        lblInputImage.image = img\n",
    "        # Label IMAGEN DE ENTRADA\n",
    "        lblInfo1 = Label(root, text=\"IMAGEN DE ENTRADA:\")\n",
    "        lblInfo1.place(x=5,y=50)\n",
    "        # Al momento que leemos la imagen de entrada, vaciamos\n",
    "        # la iamgen de salida y se limpia la selección de los\n",
    "        # radiobutton\n",
    "        lblOutputImage.image = \"\"\n",
    "\n"
   ]
  },
  {
   "cell_type": "code",
   "execution_count": 29,
   "id": "9e790438-6557-4e46-a23d-a0e02d4fc44b",
   "metadata": {},
   "outputs": [],
   "source": [
    "video = None\n",
    "def video_Stream():\n",
    "\tglobal video\n",
    "\tvideo = cv2.VideoCapture(0,cv2.CAP_DSHOW)\n",
    "\tiniciar()"
   ]
  },
  {
   "cell_type": "code",
   "execution_count": 5,
   "id": "0323c743-3853-40d1-92ee-42cc82135c99",
   "metadata": {},
   "outputs": [],
   "source": [
    "faceClassif = cv2.CascadeClassifier(cv2.data.haarcascades+'haarcascade_frontalface_default.xml')\n",
    "count = 0\n",
    "def iniciar():\n",
    "    global video\n",
    "    ret, frame = video.read()\n",
    "    frame = cv2.flip(frame,1)\n",
    "    if ret ==True:\n",
    "        frame = imutils.resize(frame,width=400, height=300)\n",
    "        frame = cv2.cvtColor(frame, cv2.COLOR_BGR2RGB)\n",
    "        #cv2.COLOR_BGR2GRAY\n",
    "        auxFrame = frame.copy()\n",
    "        auxFrame = cv2.cvtColor(frame, cv2.COLOR_BGR2GRAY)\n",
    "        faces = faceClassif.detectMultiScale(frame,1.2,5)\n",
    "        #print(cap_face)\n",
    "        if cap_face==True:\n",
    "            #count = 0\n",
    "            personName = txtNombre.get()\n",
    "            #print(personName)\n",
    "            #print(count)\n",
    "            dataPath = 'data'\n",
    "            personPath = dataPath+\"/\"+personName\n",
    "            if not os.path.exists(personPath):\n",
    "                os.makedirs(personPath)\n",
    "            for (x,y,w,h) in faces:\n",
    "                global count\n",
    "                cv2.rectangle(frame, (x,y),(x+w,y+h),(0,255,0),2)\n",
    "                rostro = auxFrame[y:y+h,x:x+w]\n",
    "                rostro = cv2.resize(rostro,(150,150),interpolation=cv2.INTER_CUBIC)\n",
    "                cv2.imwrite(personPath + '/rostro_{}.jpg'.format(count),rostro)\n",
    "                count = count + 1\n",
    "                #cv2.imshow('frame',frame)\n",
    "                #k =  cv2.waitKey(1)\n",
    "                print(count)\n",
    "                if count >= 50:\n",
    "                    tkinter.messagebox.showinfo(title=\"Alterta\",message=\"Captura Exitosa\")\n",
    "                    reiniciar_count()\n",
    "                    guardar_face()\n",
    "                    cap_face_bol()\n",
    "            #count = count + 1\n",
    "            \n",
    "        img = Image.fromarray(frame)\n",
    "        image = ImageTk.PhotoImage(image=img)\n",
    "        etip_de_video.configure(image=image)\n",
    "        etip_de_video.image = image\n",
    "        etip_de_video.after(10, iniciar)"
   ]
  },
  {
   "cell_type": "code",
   "execution_count": 6,
   "id": "bc445548-12eb-4397-943a-c049e8d3dc9f",
   "metadata": {},
   "outputs": [],
   "source": [
    "video2 = None\n",
    "cap_face = False\n",
    "def video_Stream_principal():\n",
    "\tglobal video2\n",
    "\tvideo2 = cv2.VideoCapture(0,cv2.CAP_DSHOW)\n",
    "\tiniciar_principal()"
   ]
  },
  {
   "cell_type": "code",
   "execution_count": 7,
   "id": "05a45cd7-e6d2-4b6b-9cd7-bf8f79dafe74",
   "metadata": {},
   "outputs": [
    {
     "name": "stdout",
     "output_type": "stream",
     "text": [
      "imagePaths= ['Josefina', 'Raquel']\n"
     ]
    }
   ],
   "source": [
    "face_recognizer = cv2.face.LBPHFaceRecognizer_create()\n",
    "face_recognizer.read('modeloLBPHFace.xml')\n",
    "dataPath = 'data' \n",
    "imagePaths = os.listdir(dataPath)\n",
    "print('imagePaths=',imagePaths)\n",
    "def iniciar_principal():\n",
    "    global video2\n",
    "    ret, frame = video2.read()\n",
    "    frame = cv2.flip(frame,1)\n",
    "    if ret ==True:\n",
    "        frame = imutils.resize(frame,width=400, height=300)\n",
    "        frame = cv2.cvtColor(frame, cv2.COLOR_BGR2RGB)\n",
    "        #cv2.COLOR_BGR2GRAY\n",
    "        auxFrame = frame.copy()\n",
    "        auxFrame = cv2.cvtColor(frame, cv2.COLOR_BGR2GRAY)\n",
    "        faces = faceClassif.detectMultiScale(frame,1.2,5)\n",
    "        for (x,y,w,h) in faces:\n",
    "            cv2.rectangle(frame, (x,y),(x+w,y+h),(0,255,0),2)\n",
    "            rostro = auxFrame[y:y+h,x:x+w]\n",
    "            assertrostro = cv2.resize(rostro,(150,150),interpolation= cv2.INTER_CUBIC)\n",
    "            result = face_recognizer.predict(rostro)\n",
    "            cv2.putText(frame,'{}'.format(result),(x,y-5),1,1.3,(255,255,0),1,cv2.LINE_AA)\n",
    "            if result[1] < 75:\n",
    "                cv2.rectangle(frame,(x, y+h), (x+w-50, y+h+30),(0,255,0),-1)\n",
    "                cv2.rectangle(frame,(x, y), (x+w, y+h),(0,255,0),2)\n",
    "                print(imagePaths[result[0]])\n",
    "                recog_face(imagePaths[result[0]])\n",
    "                cv2.putText(frame, '{}'.format(imagePaths[result[0]]), (x,y+h+25),2,0.8,(255,255,255),1,cv2.LINE_AA)\n",
    "            else:\n",
    "                cv2.rectangle(frame,(x, y+h), (x+w-50, y+h+30),(0,0,255),-1)\n",
    "                cv2.rectangle(frame,(x, y), (x+w, y+h),(0,0,255),2)\n",
    "                recog_face(\"desconocido\")\n",
    "                cv2.putText(frame,'Desconocido',(x,y+h+25),2,0.8,(255,255,255),1,cv2.LINE_AA)\n",
    "        img = Image.fromarray(frame)\n",
    "        image = ImageTk.PhotoImage(image=img)\n",
    "        etip_video_principal.configure(image=image)\n",
    "        etip_video_principal.image = image\n",
    "        etip_video_principal.after(10, iniciar_principal)"
   ]
  },
  {
   "cell_type": "code",
   "execution_count": 8,
   "id": "cef229d0-8ff7-4536-baa4-b6761d5e4aff",
   "metadata": {},
   "outputs": [],
   "source": [
    "def cap_face_bol():\n",
    "    global cap_face\n",
    "    print(cap_face)\n",
    "    imgGuardar = txtNombre.get()\n",
    "    if is_empty(imgGuardar):\n",
    "        tkinter.messagebox.showinfo(title=\"Alerta\",message=\"Nombre Vacio\")\n",
    "    elif image_face==None or is_empty(image_face):\n",
    "        tkinter.messagebox.showinfo(title=\"Alerta\",message=\"Imagen Vacia\")\n",
    "    else:\n",
    "        if cap_face:\n",
    "            cap_face=False\n",
    "        else:\n",
    "            cap_face=True "
   ]
  },
  {
   "cell_type": "code",
   "execution_count": 9,
   "id": "944bfee8-ae5f-4b52-828e-1734f21938c3",
   "metadata": {},
   "outputs": [],
   "source": [
    "def capturar_rostros():\n",
    "\tpersonName = txtNombre.get()\n",
    "\tprint(personName)\n",
    "\tdataPath = 'data'\n",
    "\tpersonPath = dataPath+\"/\"+personName\n",
    "\tif not os.path.exists(personPath):\n",
    "\t\tos.makedirs(personPath)"
   ]
  },
  {
   "cell_type": "code",
   "execution_count": 10,
   "id": "291e5cda-b41d-4206-aff8-73cff1f4d087",
   "metadata": {},
   "outputs": [],
   "source": [
    "def reiniciar_count():\n",
    "    global count\n",
    "    count = 0"
   ]
  },
  {
   "cell_type": "code",
   "execution_count": 11,
   "id": "c10a9d5b-780f-439c-b65c-fbb5013d64e4",
   "metadata": {},
   "outputs": [],
   "source": [
    "def guardar_face():\n",
    "    global image_face\n",
    "    image_path = image_face\n",
    "    img = cv2.imread(image_path)\n",
    "    dataPath = 'faces'\n",
    "    os.chdir(dataPath)\n",
    "    filename = txtNombre.get()+\".jpg\"\n",
    "    cv2.imwrite(filename, img)"
   ]
  },
  {
   "cell_type": "code",
   "execution_count": 12,
   "id": "65942b77-f12e-49db-badf-a5781a8b8cbc",
   "metadata": {},
   "outputs": [],
   "source": [
    "def is_empty(txt):\n",
    "    txt = set(txt)\n",
    "    return not bool(txt)"
   ]
  },
  {
   "cell_type": "code",
   "execution_count": 13,
   "id": "44dc277e-e496-4a2a-8ca9-017870120c09",
   "metadata": {},
   "outputs": [],
   "source": [
    "def recog_face(jeta):\n",
    "    x=\"faces/\"+jeta+\".jpg\"\n",
    "    image = cv2.imread(x)\n",
    "    image= imutils.resize(image, height=380)\n",
    "    imageToShow= imutils.resize(image, width=247)\n",
    "    imageToShow = cv2.cvtColor(imageToShow, cv2.COLOR_BGR2RGB)\n",
    "    im = Image.fromarray(imageToShow )\n",
    "    img = ImageTk.PhotoImage(image=im)\n",
    "    InputImageRostro.configure(image=img)\n",
    "    InputImageRostro.image = img"
   ]
  },
  {
   "cell_type": "code",
   "execution_count": 14,
   "id": "ec789e9f-5506-48b4-8565-4cf65369aa8c",
   "metadata": {},
   "outputs": [],
   "source": [
    "def entrenamiento():\n",
    "    global dataPath\n",
    "    #dataPathEntre = 'data'\n",
    "    peopleList = os.listdir(dataPath)\n",
    "    print(\"lista de personas\",peopleList)\n",
    "    labelsEntre = []\n",
    "    faceDataEntre = []\n",
    "    labelEntre  = 0\n",
    "    for nameDir in peopleList:\n",
    "        personPath = dataPath+'/'+nameDir\n",
    "        #print(\"leyendo imagenes\")\n",
    "        for fileName in os.listdir(personPath):\n",
    "            labelsEntre.append(labelEntre)\n",
    "            faceDataEntre.append(cv2.imread(personPath+'/'+fileName,0))\n",
    "            image = cv2.imread(personPath+'/'+fileName,0)\n",
    "        labelEntre = labelEntre + 1\n",
    "    face_recognizer = cv2.face.LBPHFaceRecognizer_create()\n",
    "    print(\"entrenando....\")\n",
    "\n",
    "    face_recognizer.train(faceDataEntre, np.array(labelsEntre))\n",
    "\n",
    "    face_recognizer.write('modeloLBPHFace.xml')\n",
    "\n",
    "    #face_recognizer.write('modeloFisherFace.xml')\n",
    "    print(\"modelo almanecado\")\n",
    "    tkinter.messagebox.showinfo(title=\"Alerta\",message=\"Registro Exitoso\")"
   ]
  },
  {
   "cell_type": "code",
   "execution_count": 15,
   "id": "957d657c-38c6-41de-ad60-7708e001ee11",
   "metadata": {},
   "outputs": [],
   "source": [
    "##ocultar elemtos del capturador"
   ]
  },
  {
   "cell_type": "code",
   "execution_count": 16,
   "id": "89819f9d-7e86-4912-ae64-0b09716a4ce0",
   "metadata": {},
   "outputs": [],
   "source": [
    "def registro_vetana():\n",
    "    registroVentana = Tk()\n",
    "    registroVentana.title(\"Reconocimiento Facial\")\n",
    "    registroVentana.geometry(\"1000x600\")\n",
    "    # Label donde se presentará la imagen de entrada\n",
    "    lblInputImage = Label(registroVentana)\n",
    "    lblInputImage.grid(column=0, row=2)\n",
    "    # Label donde se presentará la imagen de salida\n",
    "    lblOutputImage = Label(registroVentana)\n",
    "    lblOutputImage.grid(column=1, row=1, rowspan=6)\n",
    "    #botones\n",
    "    #boton = tk.Button(root, text=\"iniciar video\",bg=fondo_boton,relief = \"flat\",cursor = \"hand2\",command=video_Stream,width=15, height=2,font=(\"Calisto MT\",12,\"bold\"))\n",
    "    #cap_face = False\n",
    "    #boton.place(x=180,y=400)\n",
    "    boton = tk.Button(registroVentana, text=\"iniciar Captura\",cursor = \"hand2\",width=15,command=cap_face_bol, height=2,font=(\"Calisto MT\",12,\"bold\"))\n",
    "    boton.place(x=150,y=400)\n",
    "\n",
    "    #Etiqueta\n",
    "    etip_de_video = tk.Label(registroVentana,bg=\"black\")\n",
    "    etip_de_video.place(x=220,y=50)\n",
    "    \n",
    "    #boton entrenar\n",
    "    botonRegistro = tk.Button(registroVentana, text=\"iniciar Registro\",cursor = \"hand2\",width=15,command=entrenamiento, height=2,font=(\"Calisto MT\",12,\"bold\"))\n",
    "    botonRegistro.place(x=400,y=400)\n",
    "    # Creamos los radio buttons y la ubicación que estos ocuparán\n",
    "\n",
    "    labelNombre = tk.Label(registroVentana, text = \"Nombre\")\n",
    "    labelNombre.grid(column=0, row=6, ipadx=5, pady=5)\n",
    "\n",
    "    txtNombre = tk.Entry(registroVentana, width=20)\n",
    "    txtNombre.grid(column=0, row=7, padx=10, pady=5, sticky=tk.N)\n",
    "    # Creamos los radio buttons y la ubicación que estos ocuparán\n",
    "\n",
    "    labelNombre = tk.Label(registroVentana, text = \"Nombre\")\n",
    "    labelNombre.grid(column=0, row=6, ipadx=5, pady=5)\n",
    "\n",
    "    txtNombre = tk.Entry(registroVentana, width=20)\n",
    "    txtNombre.grid(column=0, row=7, padx=10, pady=5, sticky=tk.N)\n",
    "    \n",
    "    # Creamos el botón para elegir la imagen de entrada\n",
    "    btn = Button(registroVentana, text=\"Elegir imagen\", width=25, command=elegir_imagen)\n",
    "    btn.grid(column=0, row=0, padx=5, pady=5)\n",
    "    video_Stream()\n",
    "    registroVentana.mainloop()"
   ]
  },
  {
   "cell_type": "code",
   "execution_count": 17,
   "id": "4e1b9def-c1ec-42f8-81c3-4019d0506909",
   "metadata": {},
   "outputs": [],
   "source": [
    "def mostrar_registro():\n",
    "    capturar.pack_forget()\n",
    "    principal.pack()\n",
    "    global video2\n",
    "    video2.release()\n",
    "    print(\"ingreso a mostrar\")"
   ]
  },
  {
   "cell_type": "code",
   "execution_count": 18,
   "id": "416537b9-bd51-4983-90ab-23d940cc2680",
   "metadata": {},
   "outputs": [],
   "source": [
    "def denegar_registro():\n",
    "    principal.pack_forget()\n",
    "    capturar.pack()\n",
    "    #video_Stream()\n",
    "    global video\n",
    "    video.release()\n",
    "    print(\"ingreso a denegar\")"
   ]
  },
  {
   "cell_type": "code",
   "execution_count": 19,
   "id": "e0a8634b-bc90-46c0-8131-73e1f42a96c8",
   "metadata": {},
   "outputs": [],
   "source": [
    "def inicio_frame():\n",
    "    #principal.pack_forget()\n",
    "    capturar.pack_forget()"
   ]
  },
  {
   "cell_type": "code",
   "execution_count": 20,
   "id": "eb51c8fc-3603-4621-ba7e-042d25289256",
   "metadata": {},
   "outputs": [],
   "source": [
    "def onPrincipal():\n",
    "    video_Stream_principal()"
   ]
  },
  {
   "cell_type": "code",
   "execution_count": 21,
   "id": "afda2a3b-517f-4da3-bab2-998a7d4521a9",
   "metadata": {},
   "outputs": [],
   "source": [
    "def offPrincipal():\n",
    "    global video2\n",
    "    video2.release()"
   ]
  },
  {
   "cell_type": "code",
   "execution_count": 22,
   "id": "b6e2fd65-281d-41f3-9c6d-45e4e6aa6b9e",
   "metadata": {},
   "outputs": [],
   "source": [
    "def onSecundario():\n",
    "    video_Stream()"
   ]
  },
  {
   "cell_type": "code",
   "execution_count": 23,
   "id": "369dcb41-37d8-4400-8776-4548d0a62f09",
   "metadata": {},
   "outputs": [],
   "source": [
    "def offSecundario():\n",
    "    global video\n",
    "    video.release()"
   ]
  },
  {
   "cell_type": "code",
   "execution_count": 24,
   "id": "8fe4d751-b363-47ec-b9f5-df32f51f885e",
   "metadata": {},
   "outputs": [
    {
     "data": {
      "text/plain": [
       "''"
      ]
     },
     "execution_count": 24,
     "metadata": {},
     "output_type": "execute_result"
    }
   ],
   "source": [
    "# Creamos la ventana principal\n",
    "root = Tk()\n",
    "root.title(\"Reconocimiento Facial\")\n",
    "root.geometry(\"1000x500\")\n",
    "root.resizable(width=True, height=True)\n"
   ]
  },
  {
   "cell_type": "code",
   "execution_count": 25,
   "id": "7d4a6c2f-e15a-46de-82ae-f230740f3bb1",
   "metadata": {},
   "outputs": [],
   "source": [
    "#elemtos menu\n",
    "menubar = Menu(root)\n",
    "root.config(menu=menubar)\n",
    "\n",
    "filemenu = Menu(menubar, tearoff=0)\n",
    "filemenu.add_command(label=\"Nuevo Usuario\",command=mostrar_registro)\n",
    "filemenu.add_command(label=\"Eliminar Usuario\",command=denegar_registro)\n",
    "filemenu.add_separator()\n",
    "filemenu.add_command(label=\"Salir\", command=root.quit)\n",
    "\n",
    "editmenu = Menu(menubar, tearoff=0)\n",
    "editmenu.add_command(label=\"Editar Usuario\")\n",
    "\n",
    "helpmenu = Menu(menubar, tearoff=0)\n",
    "helpmenu.add_command(label=\"Ayuda\")\n",
    "helpmenu.add_separator()\n",
    "helpmenu.add_command(label=\"Acerca de...\")\n",
    "\n",
    "menubar.add_cascade(label=\"Usuarios\", menu=filemenu)\n",
    "menubar.add_cascade(label=\"Editar\", menu=editmenu)\n",
    "menubar.add_cascade(label=\"Ayuda\", menu=helpmenu)\n"
   ]
  },
  {
   "cell_type": "code",
   "execution_count": 26,
   "id": "59d6154e-a40c-4e37-80ce-f7c535cc8268",
   "metadata": {},
   "outputs": [],
   "source": [
    "##frame de vista principal\n",
    "principal = Frame(root)\n",
    "principal.pack()\n",
    "principal.config(bg=\"lightblue\")\n",
    "principal.config(width=1000,height=500) \n",
    "#principal.pack_forget()\n",
    "InputImageRostro = Label(principal,bg=\"black\")\n",
    "InputImageRostro.place(x=500,y=50)\n",
    "#Etiqueta\n",
    "etip_video_principal = tk.Label(principal,bg=\"black\")\n",
    "etip_video_principal.place(x=50,y=50)\n",
    "botonOnCamara1 = tk.Button(principal, text=\"enceder camara\",cursor = \"hand2\",width=15,command=onPrincipal, height=2,font=(\"Calisto MT\",12,\"bold\"))\n",
    "botonOnCamara1.place(x=150,y=400)\n",
    "botonOffCamara1 = tk.Button(principal, text=\"apagar camara\",cursor = \"hand2\",width=15,command=offPrincipal, height=2,font=(\"Calisto MT\",12,\"bold\"))\n",
    "botonOffCamara1.place(x=350,y=400)"
   ]
  },
  {
   "cell_type": "code",
   "execution_count": 27,
   "id": "d3973391-2ca5-49d5-95eb-4ecddff28b3a",
   "metadata": {},
   "outputs": [],
   "source": [
    "#frame registro\n",
    "capturar = Frame(root)\n",
    "capturar.pack()\n",
    "capturar.config(bg=\"red\")\n",
    "capturar.config(width=1000,height=500)\n",
    "#boton capturar\n",
    "boton = tk.Button(capturar, text=\"iniciar Captura\",cursor = \"hand2\",width=15,command=cap_face_bol, height=2,font=(\"Calisto MT\",12,\"bold\"))\n",
    "boton.place(x=480,y=400)\n",
    "#boton \n",
    "# Creamos el botón para elegir la imagen de entrada\n",
    "btn = Button(capturar, text=\"Elegir imagen\", width=25, command=elegir_imagen)\n",
    "btn.place(x=5,y=5)\n",
    "lblInputImage = Label(capturar)\n",
    "lblInputImage.place(x=5,y=80)\n",
    "# Label donde se presentará la imagen de salida\n",
    "lblOutputImage = Label(capturar)\n",
    "lblOutputImage.place(x=5,y=400)\n",
    "\n",
    "botonOnCamara2 = tk.Button(capturar, text=\"enceder camara\",cursor = \"hand2\",width=15,command=onSecundario, height=2,font=(\"Calisto MT\",12,\"bold\"))\n",
    "botonOnCamara2.place(x=100,y=400)\n",
    "botonOffCamara2 = tk.Button(capturar, text=\"apagar camara\",cursor = \"hand2\",width=15,command=offSecundario, height=2,font=(\"Calisto MT\",12,\"bold\"))\n",
    "botonOffCamara2.place(x=300,y=400)\n",
    "#Etiqueta\n",
    "botonEntrenar = tk.Button(capturar, text=\"registrar rostro\",cursor = \"hand2\",width=15,command=entrenamiento, height=2,font=(\"Calisto MT\",12,\"bold\"))\n",
    "botonEntrenar.place(x=660,y=400)\n",
    "\n",
    "labelNombre = tk.Label(capturar, text = \"Nombre\")\n",
    "labelNombre.place(x=5,y=310)\n",
    "txtNombre = tk.Entry(capturar, width=20)\n",
    "txtNombre.place(x=5,y=340)\n",
    "   \n",
    "etip_de_video = tk.Label(capturar,bg=\"black\")\n",
    "etip_de_video.place(x=220,y=50)\n"
   ]
  },
  {
   "cell_type": "code",
   "execution_count": 28,
   "id": "e10b0ae2-ccee-46d2-b7b7-c43fc308fc9a",
   "metadata": {},
   "outputs": [
    {
     "name": "stdout",
     "output_type": "stream",
     "text": [
      "Josefina\n"
     ]
    },
    {
     "name": "stderr",
     "output_type": "stream",
     "text": [
      "Exception in Tkinter callback\n",
      "Traceback (most recent call last):\n",
      "  File \"c:\\users\\lyria\\appdata\\local\\programs\\python\\python37\\lib\\tkinter\\__init__.py\", line 1705, in __call__\n",
      "    return self.func(*args)\n",
      "  File \"c:\\users\\lyria\\appdata\\local\\programs\\python\\python37\\lib\\tkinter\\__init__.py\", line 749, in callit\n",
      "    func(*args)\n",
      "  File \"C:\\Users\\Lyria\\AppData\\Local\\Temp\\ipykernel_9728\\2541095227.py\", line 27, in iniciar_principal\n",
      "    recog_face(imagePaths[result[0]])\n",
      "  File \"C:\\Users\\Lyria\\AppData\\Local\\Temp\\ipykernel_9728\\2293190862.py\", line 4, in recog_face\n",
      "    image= imutils.resize(image, height=380)\n",
      "  File \"c:\\users\\lyria\\appdata\\local\\programs\\python\\python37\\lib\\site-packages\\imutils\\convenience.py\", line 69, in resize\n",
      "    (h, w) = image.shape[:2]\n",
      "AttributeError: 'NoneType' object has no attribute 'shape'\n",
      "Exception in Tkinter callback\n",
      "Traceback (most recent call last):\n",
      "  File \"c:\\users\\lyria\\appdata\\local\\programs\\python\\python37\\lib\\tkinter\\__init__.py\", line 1705, in __call__\n",
      "    return self.func(*args)\n",
      "  File \"C:\\Users\\Lyria\\AppData\\Local\\Temp\\ipykernel_9728\\2640277949.py\", line 6, in denegar_registro\n",
      "    video.release()\n",
      "AttributeError: 'NoneType' object has no attribute 'release'\n"
     ]
    },
    {
     "name": "stdout",
     "output_type": "stream",
     "text": [
      "lista de personas ['Josefina', 'Raquel']\n",
      "entrenando....\n",
      "modelo almanecado\n",
      "ingreso a mostrar\n",
      "Josefina\n"
     ]
    },
    {
     "name": "stderr",
     "output_type": "stream",
     "text": [
      "Exception in Tkinter callback\n",
      "Traceback (most recent call last):\n",
      "  File \"c:\\users\\lyria\\appdata\\local\\programs\\python\\python37\\lib\\tkinter\\__init__.py\", line 1705, in __call__\n",
      "    return self.func(*args)\n",
      "  File \"C:\\Users\\Lyria\\AppData\\Local\\Temp\\ipykernel_9728\\3549984306.py\", line 2, in onPrincipal\n",
      "    video_Stream_principal()\n",
      "  File \"C:\\Users\\Lyria\\AppData\\Local\\Temp\\ipykernel_9728\\3754939754.py\", line 6, in video_Stream_principal\n",
      "    iniciar_principal()\n",
      "  File \"C:\\Users\\Lyria\\AppData\\Local\\Temp\\ipykernel_9728\\2541095227.py\", line 27, in iniciar_principal\n",
      "    recog_face(imagePaths[result[0]])\n",
      "  File \"C:\\Users\\Lyria\\AppData\\Local\\Temp\\ipykernel_9728\\2293190862.py\", line 4, in recog_face\n",
      "    image= imutils.resize(image, height=380)\n",
      "  File \"c:\\users\\lyria\\appdata\\local\\programs\\python\\python37\\lib\\site-packages\\imutils\\convenience.py\", line 69, in resize\n",
      "    (h, w) = image.shape[:2]\n",
      "AttributeError: 'NoneType' object has no attribute 'shape'\n"
     ]
    },
    {
     "name": "stdout",
     "output_type": "stream",
     "text": [
      "Josefina\n"
     ]
    },
    {
     "name": "stderr",
     "output_type": "stream",
     "text": [
      "Exception in Tkinter callback\n",
      "Traceback (most recent call last):\n",
      "  File \"c:\\users\\lyria\\appdata\\local\\programs\\python\\python37\\lib\\tkinter\\__init__.py\", line 1705, in __call__\n",
      "    return self.func(*args)\n",
      "  File \"C:\\Users\\Lyria\\AppData\\Local\\Temp\\ipykernel_9728\\3549984306.py\", line 2, in onPrincipal\n",
      "    video_Stream_principal()\n",
      "  File \"C:\\Users\\Lyria\\AppData\\Local\\Temp\\ipykernel_9728\\3754939754.py\", line 6, in video_Stream_principal\n",
      "    iniciar_principal()\n",
      "  File \"C:\\Users\\Lyria\\AppData\\Local\\Temp\\ipykernel_9728\\2541095227.py\", line 27, in iniciar_principal\n",
      "    recog_face(imagePaths[result[0]])\n",
      "  File \"C:\\Users\\Lyria\\AppData\\Local\\Temp\\ipykernel_9728\\2293190862.py\", line 4, in recog_face\n",
      "    image= imutils.resize(image, height=380)\n",
      "  File \"c:\\users\\lyria\\appdata\\local\\programs\\python\\python37\\lib\\site-packages\\imutils\\convenience.py\", line 69, in resize\n",
      "    (h, w) = image.shape[:2]\n",
      "AttributeError: 'NoneType' object has no attribute 'shape'\n"
     ]
    }
   ],
   "source": [
    "#hide_captura()\n",
    "video_Stream_principal()\n",
    "#inicio_frame()\n",
    "root.mainloop()\n"
   ]
  },
  {
   "cell_type": "code",
   "execution_count": null,
   "id": "cfe2c5b3-f64e-4893-b9f7-6a2026052532",
   "metadata": {},
   "outputs": [],
   "source": []
  }
 ],
 "metadata": {
  "kernelspec": {
   "display_name": "Python 3 (ipykernel)",
   "language": "python",
   "name": "python3"
  },
  "language_info": {
   "codemirror_mode": {
    "name": "ipython",
    "version": 3
   },
   "file_extension": ".py",
   "mimetype": "text/x-python",
   "name": "python",
   "nbconvert_exporter": "python",
   "pygments_lexer": "ipython3",
   "version": "3.7.9"
  }
 },
 "nbformat": 4,
 "nbformat_minor": 5
}
