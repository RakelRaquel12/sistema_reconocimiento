{
 "cells": [
  {
   "cell_type": "code",
   "execution_count": 11,
   "id": "dbcc9da7-95f8-432f-a474-5b8ba4c4d168",
   "metadata": {},
   "outputs": [],
   "source": [
    "from tkinter import *\n",
    "from PIL import Image\n",
    "from PIL import ImageTk\n",
    "import cv2\n",
    "import imutils\n",
    "try:\n",
    "    import Tkinter as tk\n",
    "except:\n",
    "    import tkinter as tk"
   ]
  },
  {
   "cell_type": "code",
   "execution_count": 2,
   "id": "0f8a4e20-f2f4-4c06-8acb-b2a92211a51b",
   "metadata": {},
   "outputs": [],
   "source": [
    "def iniciar():\n",
    "    global cap\n",
    "    cap = cv2.VideoCapture(0, cv2.CAP_DSHOW)\n",
    "    visualizar()"
   ]
  },
  {
   "cell_type": "code",
   "execution_count": 6,
   "id": "614f9cd0-f159-4ea4-9ee4-98ce1713f0c2",
   "metadata": {},
   "outputs": [],
   "source": [
    "def visualizar():\n",
    "    global cap\n",
    "    if cap is not None:\n",
    "        ret, frame = cap.read()\n",
    "        frame = cv2.flip(frame, 1)\n",
    "        if ret == True:\n",
    "            frame = imutils.resize(frame, width=640)\n",
    "            frame = cv2.cvtColor(frame, cv2.COLOR_BGR2RGB)\n",
    "            im = Image.fromarray(frame)\n",
    "            img = ImageTk.PhotoImage(image=im)\n",
    "            lblVideo.configure(image=img)\n",
    "            lblVideo.image = img\n",
    "            lblVideo.after(10, visualizar)\n",
    "        else:\n",
    "            lblVideo.image = \"\"\n",
    "            cap.release()"
   ]
  },
  {
   "cell_type": "code",
   "execution_count": 7,
   "id": "871cc93c-0104-4fe8-b2fc-0cd730907e9b",
   "metadata": {},
   "outputs": [],
   "source": [
    "def finalizar():\n",
    "    global cap\n",
    "    cap.release()"
   ]
  },
  {
   "cell_type": "code",
   "execution_count": 13,
   "id": "21aff2ad-2bee-4391-a59c-69d9eff18727",
   "metadata": {},
   "outputs": [],
   "source": [
    "def close_window():\n",
    "    root.destroy()"
   ]
  },
  {
   "cell_type": "code",
   "execution_count": null,
   "id": "0226cb8f-6d88-4fa8-8ade-36fedddac5e3",
   "metadata": {},
   "outputs": [],
   "source": []
  },
  {
   "cell_type": "code",
   "execution_count": 21,
   "id": "aa8e238d-e872-45da-b505-8d20016441d0",
   "metadata": {},
   "outputs": [],
   "source": [
    "cap = None\n",
    "root = Tk()\n",
    "\n",
    "#creacion de menu\n",
    "menubar = Menu(root)\n",
    "root.config(menu=menubar)\n",
    "root.geometry(\"500x200\")\n",
    "#nuevos menuItems\n",
    "filemenu = Menu(menubar, tearoff=0)\n",
    "filemenu.add_command(label=\"Nuevo\")\n",
    "filemenu.add_command(label=\"Abrir\")\n",
    "filemenu.add_command(label=\"Guardar\")\n",
    "filemenu.add_command(label=\"Cerrar\")\n",
    "filemenu.add_separator()\n",
    "filemenu.add_command(label=\"Salir\", command=close_window)\n",
    "\n",
    "editmenu = Menu(menubar, tearoff=0)\n",
    "editmenu.add_command(label=\"Cortar\")\n",
    "editmenu.add_command(label=\"Copiar\")\n",
    "editmenu.add_command(label=\"Pegar\")\n",
    "\n",
    "helpmenu = Menu(menubar, tearoff=0)\n",
    "helpmenu.add_command(label=\"Ayuda\")\n",
    "helpmenu.add_separator()\n",
    "helpmenu.add_command(label=\"Acerca de...\")\n",
    "\n",
    "menubar.add_cascade(label=\"Archivo\", menu=filemenu)\n",
    "menubar.add_cascade(label=\"Editar\", menu=editmenu)\n",
    "menubar.add_cascade(label=\"Ayuda\", menu=helpmenu)\n",
    "#acciones de boton Video\n",
    "btnIniciar = Button(root, text=\"Iniciar\", width=45, command=iniciar)\n",
    "btnIniciar.grid(column=0, row=0, padx=5, pady=5)\n",
    "btnFinalizar = Button(root, text=\"Finalizar\", width=45, command=finalizar)\n",
    "btnFinalizar.grid(column=1, row=0, padx=5, pady=5)\n",
    "lblVideo = Label(root)\n",
    "lblVideo.grid(column=0, row=1, columnspan=2)\n",
    "\n",
    "#cierre del loop Tk\n",
    "root.mainloop()"
   ]
  },
  {
   "cell_type": "code",
   "execution_count": null,
   "id": "eac6bcf8-2085-4ecd-98a9-1d73f0eb2fab",
   "metadata": {},
   "outputs": [],
   "source": []
  }
 ],
 "metadata": {
  "kernelspec": {
   "display_name": "Python 3 (ipykernel)",
   "language": "python",
   "name": "python3"
  },
  "language_info": {
   "codemirror_mode": {
    "name": "ipython",
    "version": 3
   },
   "file_extension": ".py",
   "mimetype": "text/x-python",
   "name": "python",
   "nbconvert_exporter": "python",
   "pygments_lexer": "ipython3",
   "version": "3.9.6"
  }
 },
 "nbformat": 4,
 "nbformat_minor": 5
}
